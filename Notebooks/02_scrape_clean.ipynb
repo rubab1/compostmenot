{
 "cells": [
  {
   "cell_type": "code",
   "execution_count": 1,
   "metadata": {},
   "outputs": [],
   "source": [
    "import pandas as pd\n",
    "from bs4 import BeautifulSoup\n",
    "import requests\n",
    "import numpy as np"
   ]
  },
  {
   "cell_type": "code",
   "execution_count": 5,
   "metadata": {},
   "outputs": [
    {
     "data": {
      "text/plain": [
       "(1299, 3)"
      ]
     },
     "execution_count": 5,
     "metadata": {},
     "output_type": "execute_result"
    }
   ],
   "source": [
    "nodeslist = pd.read_json('nodeslist.json')\n",
    "nodesDF = nodeslist[~nodeslist['hasChild']]\n",
    "nodesDF = nodesDF[nodesDF['value']!='']\n",
    "nodesDF.shape"
   ]
  },
  {
   "cell_type": "code",
   "execution_count": 6,
   "metadata": {},
   "outputs": [
    {
     "data": {
      "text/html": [
       "<div>\n",
       "<style scoped>\n",
       "    .dataframe tbody tr th:only-of-type {\n",
       "        vertical-align: middle;\n",
       "    }\n",
       "\n",
       "    .dataframe tbody tr th {\n",
       "        vertical-align: top;\n",
       "    }\n",
       "\n",
       "    .dataframe thead th {\n",
       "        text-align: right;\n",
       "    }\n",
       "</style>\n",
       "<table border=\"1\" class=\"dataframe\">\n",
       "  <thead>\n",
       "    <tr style=\"text-align: right;\">\n",
       "      <th></th>\n",
       "      <th>hasChild</th>\n",
       "      <th>label</th>\n",
       "      <th>value</th>\n",
       "    </tr>\n",
       "  </thead>\n",
       "  <tbody>\n",
       "    <tr>\n",
       "      <th>3</th>\n",
       "      <td>False</td>\n",
       "      <td>Air Conditioners or Heat Pumps</td>\n",
       "      <td>HouseholdItems/Appliances/AirConditionersHeatP...</td>\n",
       "    </tr>\n",
       "    <tr>\n",
       "      <th>4</th>\n",
       "      <td>False</td>\n",
       "      <td>Blenders</td>\n",
       "      <td>HouseholdItems/Appliances/Blenders</td>\n",
       "    </tr>\n",
       "    <tr>\n",
       "      <th>5</th>\n",
       "      <td>False</td>\n",
       "      <td>Food Processors</td>\n",
       "      <td>HouseholdItems/Appliances/FoodProcessors</td>\n",
       "    </tr>\n",
       "    <tr>\n",
       "      <th>6</th>\n",
       "      <td>False</td>\n",
       "      <td>Mixers</td>\n",
       "      <td>HouseholdItems/Appliances/Mixers</td>\n",
       "    </tr>\n",
       "    <tr>\n",
       "      <th>7</th>\n",
       "      <td>False</td>\n",
       "      <td>Other Large Appliances</td>\n",
       "      <td>HouseholdItems/Appliances/OtherLargeAppliances</td>\n",
       "    </tr>\n",
       "  </tbody>\n",
       "</table>\n",
       "</div>"
      ],
      "text/plain": [
       "   hasChild                           label  \\\n",
       "3     False  Air Conditioners or Heat Pumps   \n",
       "4     False                        Blenders   \n",
       "5     False                 Food Processors   \n",
       "6     False                          Mixers   \n",
       "7     False          Other Large Appliances   \n",
       "\n",
       "                                               value  \n",
       "3  HouseholdItems/Appliances/AirConditionersHeatP...  \n",
       "4                 HouseholdItems/Appliances/Blenders  \n",
       "5           HouseholdItems/Appliances/FoodProcessors  \n",
       "6                   HouseholdItems/Appliances/Mixers  \n",
       "7     HouseholdItems/Appliances/OtherLargeAppliances  "
      ]
     },
     "execution_count": 6,
     "metadata": {},
     "output_type": "execute_result"
    }
   ],
   "source": [
    "nodesDF.head()"
   ]
  },
  {
   "cell_type": "code",
   "execution_count": 7,
   "metadata": {},
   "outputs": [],
   "source": [
    "home = 'https://www.seattle.gov/util/MyServices/WhereDoesItGo/'\n",
    "my_resp = lambda x: requests.get(home+x+'/index.htm', timeout=5)\n",
    "my_content = lambda x: BeautifulSoup(x.content, \"html.parser\")\n",
    "my_h3 = lambda x: x.find_all('h3')[1:]\n",
    "my_labels = lambda x: [s['class'][0] for s in x]"
   ]
  },
  {
   "cell_type": "code",
   "execution_count": 8,
   "metadata": {},
   "outputs": [],
   "source": [
    "labels = []\n",
    "for i in range(nodesDF.shape[0]):\n",
    "    _resp = my_resp(nodesDF.iloc[i]['value'])\n",
    "    _cont = my_content(_resp)\n",
    "    _h3 = my_h3(_cont)\n",
    "    try:\n",
    "        _lab = my_labels(_h3)\n",
    "        labels.append(_lab)\n",
    "    except:\n",
    "        labels.append([''])"
   ]
  },
  {
   "cell_type": "code",
   "execution_count": 9,
   "metadata": {},
   "outputs": [],
   "source": [
    "compost = np.array([True if 'food' in s else False for s in labels])\n",
    "garbage = np.array([True if 'garbage' in s else False for s in labels])\n",
    "recycle = np.array([True if 'recycle' in s else False for s in labels])\n",
    "binside = np.array([True if 'binSide' in s else False for s in labels])\n",
    "donate  = np.array([True if 'donate' in s else False for s in labels])\n",
    "transfer = np.array([True if 'transfer' in s else False for s in labels])"
   ]
  },
  {
   "cell_type": "code",
   "execution_count": 11,
   "metadata": {},
   "outputs": [
    {
     "name": "stdout",
     "output_type": "stream",
     "text": [
      "0.1170130869899923\n",
      "0.4973056197074673\n",
      "0.27251732101616627\n",
      "0.049268668206312545\n",
      "0.11855273287143957\n",
      "0.147036181678214\n"
     ]
    }
   ],
   "source": [
    "print(sum(compost)/len(compost))\n",
    "print(sum(garbage)/len(compost))\n",
    "print(sum(recycle)/len(compost))\n",
    "print(sum(binside)/len(compost))\n",
    "print(sum(donate)/len(compost))\n",
    "print(sum(transfer)/len(compost))"
   ]
  },
  {
   "cell_type": "code",
   "execution_count": 52,
   "metadata": {},
   "outputs": [],
   "source": [
    "compost2 = compost.copy()\n",
    "\n",
    "for i in range(len(compost2)):\n",
    "    _w = nodesDF['label'].iloc[i]\n",
    "    _w = _w.lower()\n",
    "    if (('plastic' in _w)|('glass' in _w)|('pot' in _w)\n",
    "       |('jug' in _w)|('cup' in _w)|('bowl' in _w)\n",
    "       |('spoon' in _w)|('fork' in _w)|('knife' in _w)\n",
    "       |('spork' in _w)):\n",
    "        compost2[i] = False"
   ]
  },
  {
   "cell_type": "code",
   "execution_count": 55,
   "metadata": {},
   "outputs": [
    {
     "name": "stdout",
     "output_type": "stream",
     "text": [
      "0.08929946112394149\n"
     ]
    }
   ],
   "source": [
    "print(sum(compost2)/len(compost))"
   ]
  },
  {
   "cell_type": "code",
   "execution_count": 56,
   "metadata": {},
   "outputs": [],
   "source": [
    "nodesDF['compost'] = compost2"
   ]
  },
  {
   "cell_type": "code",
   "execution_count": 15,
   "metadata": {},
   "outputs": [],
   "source": [
    "nodesDF = nodesDF.drop(columns=['hasChild','value'])"
   ]
  },
  {
   "cell_type": "code",
   "execution_count": 43,
   "metadata": {},
   "outputs": [
    {
     "data": {
      "text/html": [
       "<div>\n",
       "<style scoped>\n",
       "    .dataframe tbody tr th:only-of-type {\n",
       "        vertical-align: middle;\n",
       "    }\n",
       "\n",
       "    .dataframe tbody tr th {\n",
       "        vertical-align: top;\n",
       "    }\n",
       "\n",
       "    .dataframe thead th {\n",
       "        text-align: right;\n",
       "    }\n",
       "</style>\n",
       "<table border=\"1\" class=\"dataframe\">\n",
       "  <thead>\n",
       "    <tr style=\"text-align: right;\">\n",
       "      <th></th>\n",
       "      <th>label</th>\n",
       "      <th>compost</th>\n",
       "    </tr>\n",
       "  </thead>\n",
       "  <tbody>\n",
       "    <tr>\n",
       "      <th>3</th>\n",
       "      <td>Air Conditioners or Heat Pumps</td>\n",
       "      <td>False</td>\n",
       "    </tr>\n",
       "    <tr>\n",
       "      <th>4</th>\n",
       "      <td>Blenders</td>\n",
       "      <td>False</td>\n",
       "    </tr>\n",
       "    <tr>\n",
       "      <th>5</th>\n",
       "      <td>Food Processors</td>\n",
       "      <td>False</td>\n",
       "    </tr>\n",
       "    <tr>\n",
       "      <th>6</th>\n",
       "      <td>Mixers</td>\n",
       "      <td>False</td>\n",
       "    </tr>\n",
       "    <tr>\n",
       "      <th>7</th>\n",
       "      <td>Other Large Appliances</td>\n",
       "      <td>False</td>\n",
       "    </tr>\n",
       "  </tbody>\n",
       "</table>\n",
       "</div>"
      ],
      "text/plain": [
       "                            label  compost\n",
       "3  Air Conditioners or Heat Pumps    False\n",
       "4                        Blenders    False\n",
       "5                 Food Processors    False\n",
       "6                          Mixers    False\n",
       "7          Other Large Appliances    False"
      ]
     },
     "execution_count": 43,
     "metadata": {},
     "output_type": "execute_result"
    }
   ],
   "source": [
    "nodesDF.head()"
   ]
  },
  {
   "cell_type": "code",
   "execution_count": 57,
   "metadata": {},
   "outputs": [],
   "source": [
    "nodesDF.to_json('compost_or_not.json',orient='records')"
   ]
  }
 ],
 "metadata": {
  "kernelspec": {
   "display_name": "Python 3",
   "language": "python",
   "name": "python3"
  },
  "language_info": {
   "codemirror_mode": {
    "name": "ipython",
    "version": 3
   },
   "file_extension": ".py",
   "mimetype": "text/x-python",
   "name": "python",
   "nbconvert_exporter": "python",
   "pygments_lexer": "ipython3",
   "version": "3.6.7"
  }
 },
 "nbformat": 4,
 "nbformat_minor": 2
}
