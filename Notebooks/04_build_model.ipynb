{
 "cells": [
  {
   "cell_type": "code",
   "execution_count": 1,
   "metadata": {},
   "outputs": [],
   "source": [
    "import pandas as pd\n",
    "import numpy as np\n",
    "import pickle\n",
    "from nltk.stem import WordNetLemmatizer\n",
    "from sklearn.feature_extraction.text import CountVectorizer\n",
    "from sklearn.feature_extraction import stop_words\n",
    "\n",
    "from sklearn.ensemble import RandomForestClassifier\n",
    "from sklearn.metrics import accuracy_score\n",
    "from sklearn.model_selection import train_test_split"
   ]
  },
  {
   "cell_type": "code",
   "execution_count": 2,
   "metadata": {},
   "outputs": [],
   "source": [
    "words,labels = pickle.load(open('words_labels.pkl','rb'))"
   ]
  },
  {
   "cell_type": "code",
   "execution_count": 3,
   "metadata": {},
   "outputs": [],
   "source": [
    "def get_lemma(word,lemmatizer=WordNetLemmatizer()):\n",
    "    _word = word.split(' ')\n",
    "    for i,_w in enumerate(_word):\n",
    "        _word[i] = lemmatizer.lemmatize(_w.lower())\n",
    "    return ' '.join(_word)\n",
    "\n",
    "words = np.array([get_lemma(word) for word in words])"
   ]
  },
  {
   "cell_type": "code",
   "execution_count": 4,
   "metadata": {},
   "outputs": [
    {
     "name": "stdout",
     "output_type": "stream",
     "text": [
      "0.7894736842105263\n",
      "0.8\n",
      "0.7222222222222222\n"
     ]
    }
   ],
   "source": [
    "vectorizer = CountVectorizer(stop_words=stop_words.ENGLISH_STOP_WORDS,max_df=0.2)\n",
    "\n",
    "features_train, features_test, labels_train, labels_test = train_test_split(words, labels, test_size=0.1)\n",
    "features_train = vectorizer.fit_transform(features_train).toarray()\n",
    "features_test  = vectorizer.transform(features_test).toarray()\n",
    "\n",
    "clf = RandomForestClassifier(n_estimators=100,n_jobs=-1,class_weight={0:1,1:5})\n",
    "clf.fit(features_train,labels_train)\n",
    "print(clf.score(features_test,labels_test))\n",
    "print(clf.score(features_test[labels_test==0],labels_test[labels_test==0]))\n",
    "print(clf.score(features_test[labels_test==1],labels_test[labels_test==1]))\n",
    "del clf, vectorizer;"
   ]
  },
  {
   "cell_type": "code",
   "execution_count": 5,
   "metadata": {},
   "outputs": [],
   "source": [
    "vectorizer = CountVectorizer(stop_words=stop_words.ENGLISH_STOP_WORDS,max_df=0.2)\n",
    "vectorizer.fit(words)\n",
    "\n",
    "def get_vect(x,vectorizer=vectorizer):\n",
    "    return vectorizer.transform(x).toarray()"
   ]
  },
  {
   "cell_type": "code",
   "execution_count": 6,
   "metadata": {},
   "outputs": [
    {
     "name": "stdout",
     "output_type": "stream",
     "text": [
      "0.9969788519637462\n",
      "0.9966187658495351\n",
      "1.0\n"
     ]
    }
   ],
   "source": [
    "_words = get_vect(words)\n",
    "clf = RandomForestClassifier(n_estimators=500,n_jobs=-1,class_weight={0:1,1:5})\n",
    "clf.fit(_words,labels)\n",
    "print(clf.score(_words,labels))\n",
    "print(clf.score(_words[labels==0],labels[labels==0]))\n",
    "print(clf.score(_words[labels==1],labels[labels==1]))"
   ]
  },
  {
   "cell_type": "code",
   "execution_count": 7,
   "metadata": {},
   "outputs": [],
   "source": [
    "def is_compost(x):\n",
    "    return bool(int(clf.predict(get_vect(np.array([get_lemma(x)])))))"
   ]
  },
  {
   "cell_type": "code",
   "execution_count": 8,
   "metadata": {},
   "outputs": [
    {
     "data": {
      "text/plain": [
       "True"
      ]
     },
     "execution_count": 8,
     "metadata": {},
     "output_type": "execute_result"
    }
   ],
   "source": [
    "is_compost('Food Scrap')"
   ]
  },
  {
   "cell_type": "code",
   "execution_count": 9,
   "metadata": {},
   "outputs": [
    {
     "data": {
      "text/plain": [
       "False"
      ]
     },
     "execution_count": 9,
     "metadata": {},
     "output_type": "execute_result"
    }
   ],
   "source": [
    "is_compost('Metal Scrap')"
   ]
  },
  {
   "cell_type": "code",
   "execution_count": 10,
   "metadata": {},
   "outputs": [
    {
     "data": {
      "text/plain": [
       "True"
      ]
     },
     "execution_count": 10,
     "metadata": {},
     "output_type": "execute_result"
    }
   ],
   "source": [
    "is_compost('Food')"
   ]
  },
  {
   "cell_type": "code",
   "execution_count": 11,
   "metadata": {},
   "outputs": [
    {
     "data": {
      "text/plain": [
       "True"
      ]
     },
     "execution_count": 11,
     "metadata": {},
     "output_type": "execute_result"
    }
   ],
   "source": [
    "is_compost('Green')"
   ]
  },
  {
   "cell_type": "code",
   "execution_count": 12,
   "metadata": {},
   "outputs": [],
   "source": [
    "pickle.dump((clf,vectorizer),\n",
    "           open('CompostClassifier.pkl','wb'))"
   ]
  }
 ],
 "metadata": {
  "kernelspec": {
   "display_name": "Python 3",
   "language": "python",
   "name": "python3"
  },
  "language_info": {
   "codemirror_mode": {
    "name": "ipython",
    "version": 3
   },
   "file_extension": ".py",
   "mimetype": "text/x-python",
   "name": "python",
   "nbconvert_exporter": "python",
   "pygments_lexer": "ipython3",
   "version": "3.6.7"
  }
 },
 "nbformat": 4,
 "nbformat_minor": 2
}
