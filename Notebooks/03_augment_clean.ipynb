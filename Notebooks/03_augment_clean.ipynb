{
 "cells": [
  {
   "cell_type": "code",
   "execution_count": 1,
   "metadata": {},
   "outputs": [],
   "source": [
    "import pandas as pd\n",
    "import numpy as np\n",
    "import pickle\n",
    "from nltk.stem import WordNetLemmatizer\n",
    "from sklearn.feature_extraction.text import TfidfVectorizer\n",
    "from sklearn.feature_extraction import stop_words"
   ]
  },
  {
   "cell_type": "code",
   "execution_count": 2,
   "metadata": {},
   "outputs": [],
   "source": [
    "compostDF = pd.read_json('compost_or_not.json')"
   ]
  },
  {
   "cell_type": "code",
   "execution_count": 3,
   "metadata": {},
   "outputs": [],
   "source": [
    "words = compostDF['label'].values\n",
    "types = compostDF['compost'].values\n",
    "\n",
    "extra_words = np.array(['Food Fruit and vegetables',\n",
    "'Food, Bread, pasta, rice, and grains',\n",
    "'Food, Eggshells and nutshells',\n",
    "'Food, Coffee grounds and filters',\n",
    "'Food, Tea bags',\n",
    "'Food, Meat, fish, and chicken, pork, kaluas, carnitas, produce',\n",
    "'Food, Dairy products like milk, butter, and cheese',\n",
    "'Food, Bones and seafood shells, fish scale',\n",
    "'Compostable (uncoated) paper such as paper napkins, paper towels, and pizza boxes',\n",
    "'Both dry and wet pet food can be turned compost',\n",
    "'Greasy or food-soiled pizza boxes go in the food and yard waste',\n",
    "'Paper coffee filters are compostable and go in the food and yard waste together with coffee grounds',\n",
    "'Dirty or clean uncoated (not shiny) paper take-out containers',\n",
    "'Dirty or clean take-out containers labeled “Compostable” or “#7 PLA”',\n",
    "'Greasy pizza boxes',\n",
    "'Cardboard with grease or oil stains (like pizza boxes) go in the food and yard waste bin',\n",
    "'Put cardboard that is mostly wet in the food and yard waste bin',\n",
    "'Food, produce, vegetable',\n",
    "'ingredients, spices',\n",
    "'Natural foods, vegetable, fruits',\n",
    "'Vegetable, produce',\n",
    "'Vegetarian food',\n",
    "'Plant, vegetable, food',\n",
    "'whole food, whole grain, leaf vegetable',\n",
    "'superfood, food, whole wheat'])\n",
    "\n",
    "extra_types = np.repeat(True,len(extra_words))\n",
    "\n",
    "words = np.append(words,extra_words)\n",
    "types = np.append(types,extra_types)\n",
    "\n",
    "_words = words[~types]\n",
    "for i,word in enumerate(_words):\n",
    "    _words[i] = word.replace('food','').replace('Food','')\\\n",
    "        .replace('vegetable','').replace('Vegetable','')\\\n",
    "        .replace('plant','').replace('Plant','')\\\n",
    "        .replace('meat','').replace('Meat','')\n",
    "    \n",
    "words[~types] = _words\n",
    "\n",
    "labels = np.empty(len(types),dtype=int)\n",
    "labels[types]=1\n",
    "labels[~types]=0"
   ]
  },
  {
   "cell_type": "code",
   "execution_count": 4,
   "metadata": {},
   "outputs": [],
   "source": [
    "idx = np.arange(0,len(labels))\n",
    "np.random.shuffle(idx)\n",
    "words,labels = words[idx],labels[idx]"
   ]
  },
  {
   "cell_type": "code",
   "execution_count": 5,
   "metadata": {},
   "outputs": [],
   "source": [
    "pickle.dump((words,labels),open('words_labels.pkl','wb'))"
   ]
  }
 ],
 "metadata": {
  "kernelspec": {
   "display_name": "Python 3",
   "language": "python",
   "name": "python3"
  },
  "language_info": {
   "codemirror_mode": {
    "name": "ipython",
    "version": 3
   },
   "file_extension": ".py",
   "mimetype": "text/x-python",
   "name": "python",
   "nbconvert_exporter": "python",
   "pygments_lexer": "ipython3",
   "version": "3.6.7"
  }
 },
 "nbformat": 4,
 "nbformat_minor": 2
}
